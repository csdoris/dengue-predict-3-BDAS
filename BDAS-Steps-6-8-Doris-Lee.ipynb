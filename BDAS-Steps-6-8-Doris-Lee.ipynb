{
 "cells": [
  {
   "cell_type": "markdown",
   "metadata": {},
   "source": [
    "# Predict and Eliminate Epidemic with Historical Data\n",
    "Doris Lee (617001187)"
   ]
  },
  {
   "cell_type": "code",
   "execution_count": 1,
   "metadata": {},
   "outputs": [],
   "source": [
    "# Must be included at the beginning of each new notebook. App name: BDAS-dengue\n",
    "import findspark\n",
    "findspark.init('/home/ubuntu/spark-2.1.1-bin-hadoop2.7')\n",
    "import pyspark\n",
    "from pyspark.sql import SparkSession\n",
    "spark = SparkSession.builder.appName('BDAS-dengue').getOrCreate()"
   ]
  },
  {
   "cell_type": "code",
   "execution_count": 2,
   "metadata": {},
   "outputs": [],
   "source": [
    "# Read csv file saved from Steps 2-4 (dengue-integrated.csv). Schema is automatically configured.\n",
    "data = spark.read.csv('dengue-integrated.csv', header=True, inferSchema=True)"
   ]
  },
  {
   "cell_type": "code",
   "execution_count": 3,
   "metadata": {},
   "outputs": [
    {
     "name": "stdout",
     "output_type": "stream",
     "text": [
      "root\n",
      " |-- city: string (nullable = true)\n",
      " |-- year: integer (nullable = true)\n",
      " |-- weekofyear: integer (nullable = true)\n",
      " |-- ndvi_ne: double (nullable = true)\n",
      " |-- ndvi_nw: double (nullable = true)\n",
      " |-- ndvi_se: double (nullable = true)\n",
      " |-- ndvi_sw: double (nullable = true)\n",
      " |-- precipitation_amt_mm: double (nullable = true)\n",
      " |-- reanalysis_air_temp_k: double (nullable = true)\n",
      " |-- reanalysis_avg_temp_k: double (nullable = true)\n",
      " |-- reanalysis_dew_point_temp_k: double (nullable = true)\n",
      " |-- reanalysis_max_air_temp_k: double (nullable = true)\n",
      " |-- reanalysis_min_air_temp_k: double (nullable = true)\n",
      " |-- reanalysis_precip_amt_kg_per_m2: double (nullable = true)\n",
      " |-- reanalysis_relative_humidity_percent: double (nullable = true)\n",
      " |-- reanalysis_sat_precip_amt_mm: double (nullable = true)\n",
      " |-- reanalysis_specific_humidity_g_per_kg: double (nullable = true)\n",
      " |-- reanalysis_tdtr_k: double (nullable = true)\n",
      " |-- station_avg_temp_c: double (nullable = true)\n",
      " |-- station_diur_temp_rng_c: double (nullable = true)\n",
      " |-- station_max_temp_c: double (nullable = true)\n",
      " |-- station_min_temp_c: double (nullable = true)\n",
      " |-- station_precip_mm: double (nullable = true)\n",
      " |-- total_cases: integer (nullable = true)\n",
      " |-- total_cases_double: double (nullable = true)\n",
      " |-- total_cases_bin: integer (nullable = true)\n",
      " |-- log_reanalysis_precip_amt_kg_per_m2: double (nullable = true)\n",
      " |-- log_station_precip_mm: double (nullable = true)\n",
      " |-- log_precipitation_amt_mm: double (nullable = true)\n",
      " |-- log_reanalysis_sat_precip_amt_mm: double (nullable = true)\n",
      " |-- log_reanalysis_tdtr_k: double (nullable = true)\n",
      " |-- log_total_cases: double (nullable = true)\n",
      "\n"
     ]
    }
   ],
   "source": [
    "# Print the schema of the DataFrame\n",
    "data.printSchema()"
   ]
  },
  {
   "cell_type": "code",
   "execution_count": 4,
   "metadata": {},
   "outputs": [
    {
     "name": "stdout",
     "output_type": "stream",
     "text": [
      "1110\n",
      "32\n"
     ]
    }
   ],
   "source": [
    "# Print number of rows and columns in data\n",
    "print(data.count())\n",
    "print(len(data.columns))"
   ]
  },
  {
   "cell_type": "markdown",
   "metadata": {},
   "source": [
    "## 6. Data Mining Algorithm(s) Selection"
   ]
  },
  {
   "cell_type": "markdown",
   "metadata": {},
   "source": [
    "### 6.3 Building appropriate model(s) with relevant parameter(s)"
   ]
  },
  {
   "cell_type": "markdown",
   "metadata": {},
   "source": [
    "#### 6.3.1 Building appropriate models"
   ]
  },
  {
   "cell_type": "code",
   "execution_count": 5,
   "metadata": {},
   "outputs": [],
   "source": [
    "# Import DecisionTreeClassifier\n",
    "from pyspark.ml.classification import DecisionTreeClassifier, LogisticRegression, OneVsRest, GBTClassifier\n",
    "# Import LinearRegression\n",
    "from pyspark.ml.regression import LinearRegression, GeneralizedLinearRegression, GBTRegressor"
   ]
  },
  {
   "cell_type": "markdown",
   "metadata": {},
   "source": [
    "#### 6.3.2 First iteration – selecting relevant features"
   ]
  },
  {
   "cell_type": "code",
   "execution_count": 6,
   "metadata": {},
   "outputs": [],
   "source": [
    "# Import VectorAssembler and Vectors\n",
    "from pyspark.ml.linalg import Vectors\n",
    "from pyspark.ml.feature import VectorAssembler"
   ]
  },
  {
   "cell_type": "code",
   "execution_count": 7,
   "metadata": {},
   "outputs": [],
   "source": [
    "# Assemble features vector with the nine features identified in step 4.1 Data Reduction\n",
    "assembler = VectorAssembler(\n",
    "    inputCols=['reanalysis_min_air_temp_k', 'reanalysis_tdtr_k', 'station_diur_temp_rng_c', 'reanalysis_max_air_temp_k', 'station_min_temp_c', 'reanalysis_air_temp_k', 'ndvi_ne', 'ndvi_nw'],\n",
    "    outputCol=\"features\")"
   ]
  },
  {
   "cell_type": "code",
   "execution_count": 8,
   "metadata": {},
   "outputs": [],
   "source": [
    "# Transform the data using the vector assembler\n",
    "output1 = assembler.transform(data)"
   ]
  },
  {
   "cell_type": "code",
   "execution_count": 9,
   "metadata": {},
   "outputs": [
    {
     "name": "stdout",
     "output_type": "stream",
     "text": [
      "root\n",
      " |-- city: string (nullable = true)\n",
      " |-- year: integer (nullable = true)\n",
      " |-- weekofyear: integer (nullable = true)\n",
      " |-- ndvi_ne: double (nullable = true)\n",
      " |-- ndvi_nw: double (nullable = true)\n",
      " |-- ndvi_se: double (nullable = true)\n",
      " |-- ndvi_sw: double (nullable = true)\n",
      " |-- precipitation_amt_mm: double (nullable = true)\n",
      " |-- reanalysis_air_temp_k: double (nullable = true)\n",
      " |-- reanalysis_avg_temp_k: double (nullable = true)\n",
      " |-- reanalysis_dew_point_temp_k: double (nullable = true)\n",
      " |-- reanalysis_max_air_temp_k: double (nullable = true)\n",
      " |-- reanalysis_min_air_temp_k: double (nullable = true)\n",
      " |-- reanalysis_precip_amt_kg_per_m2: double (nullable = true)\n",
      " |-- reanalysis_relative_humidity_percent: double (nullable = true)\n",
      " |-- reanalysis_sat_precip_amt_mm: double (nullable = true)\n",
      " |-- reanalysis_specific_humidity_g_per_kg: double (nullable = true)\n",
      " |-- reanalysis_tdtr_k: double (nullable = true)\n",
      " |-- station_avg_temp_c: double (nullable = true)\n",
      " |-- station_diur_temp_rng_c: double (nullable = true)\n",
      " |-- station_max_temp_c: double (nullable = true)\n",
      " |-- station_min_temp_c: double (nullable = true)\n",
      " |-- station_precip_mm: double (nullable = true)\n",
      " |-- total_cases: integer (nullable = true)\n",
      " |-- total_cases_double: double (nullable = true)\n",
      " |-- total_cases_bin: integer (nullable = true)\n",
      " |-- log_reanalysis_precip_amt_kg_per_m2: double (nullable = true)\n",
      " |-- log_station_precip_mm: double (nullable = true)\n",
      " |-- log_precipitation_amt_mm: double (nullable = true)\n",
      " |-- log_reanalysis_sat_precip_amt_mm: double (nullable = true)\n",
      " |-- log_reanalysis_tdtr_k: double (nullable = true)\n",
      " |-- log_total_cases: double (nullable = true)\n",
      " |-- features: vector (nullable = true)\n",
      "\n"
     ]
    },
    {
     "data": {
      "text/plain": [
       "[Row(city='sj', year=1990, weekofyear=18, ndvi_ne=0.1226, ndvi_nw=0.103725, ndvi_se=0.1984833, ndvi_sw=0.1776167, precipitation_amt_mm=12.42, reanalysis_air_temp_k=297.572857143, reanalysis_avg_temp_k=297.742857143, reanalysis_dew_point_temp_k=292.414285714, reanalysis_max_air_temp_k=299.8, reanalysis_min_air_temp_k=295.9, reanalysis_precip_amt_kg_per_m2=32.0, reanalysis_relative_humidity_percent=73.3657142857, reanalysis_sat_precip_amt_mm=12.42, reanalysis_specific_humidity_g_per_kg=14.0128571429, reanalysis_tdtr_k=2.62857142857, station_avg_temp_c=25.4428571429, station_diur_temp_rng_c=6.9, station_max_temp_c=29.4, station_min_temp_c=20.0, station_precip_mm=16.0, total_cases=4, total_cases_double=4.0, total_cases_bin=0, log_reanalysis_precip_amt_kg_per_m2=3.4965075614664802, log_station_precip_mm=2.833213344056216, log_precipitation_amt_mm=2.5967461315435356, log_reanalysis_sat_precip_amt_mm=2.5967461315435356, log_reanalysis_tdtr_k=1.2888390249687838, log_total_cases=1.6094379124341003, features=DenseVector([295.9, 2.6286, 6.9, 299.8, 20.0, 297.5729, 0.1226, 0.1037]))]"
      ]
     },
     "execution_count": 9,
     "metadata": {},
     "output_type": "execute_result"
    }
   ],
   "source": [
    "# Check if features column is added to output\n",
    "output1.printSchema()\n",
    "# Check that the features column is a dense vector that combines the various features as expected\n",
    "output1.head(1)"
   ]
  },
  {
   "cell_type": "markdown",
   "metadata": {},
   "source": [
    "#### 6.3.3 Second iteration – selecting relevant features"
   ]
  },
  {
   "cell_type": "code",
   "execution_count": 10,
   "metadata": {},
   "outputs": [],
   "source": [
    "# Assemble features vector with the ten features identified in step 4.1 Data Reduction\n",
    "assembler = VectorAssembler(\n",
    "    inputCols=['log_reanalysis_tdtr_k', 'reanalysis_min_air_temp_k', 'station_diur_temp_rng_c', 'reanalysis_max_air_temp_k', 'ndvi_ne', 'station_min_temp_c', 'ndvi_nw', 'ndvi_sw', 'reanalysis_air_temp_k', 'ndvi_se'],\n",
    "    outputCol=\"features\")"
   ]
  },
  {
   "cell_type": "code",
   "execution_count": 11,
   "metadata": {},
   "outputs": [],
   "source": [
    "# Transform the data using the vector assembler\n",
    "output2 = assembler.transform(data)"
   ]
  },
  {
   "cell_type": "code",
   "execution_count": 12,
   "metadata": {},
   "outputs": [
    {
     "name": "stdout",
     "output_type": "stream",
     "text": [
      "root\n",
      " |-- city: string (nullable = true)\n",
      " |-- year: integer (nullable = true)\n",
      " |-- weekofyear: integer (nullable = true)\n",
      " |-- ndvi_ne: double (nullable = true)\n",
      " |-- ndvi_nw: double (nullable = true)\n",
      " |-- ndvi_se: double (nullable = true)\n",
      " |-- ndvi_sw: double (nullable = true)\n",
      " |-- precipitation_amt_mm: double (nullable = true)\n",
      " |-- reanalysis_air_temp_k: double (nullable = true)\n",
      " |-- reanalysis_avg_temp_k: double (nullable = true)\n",
      " |-- reanalysis_dew_point_temp_k: double (nullable = true)\n",
      " |-- reanalysis_max_air_temp_k: double (nullable = true)\n",
      " |-- reanalysis_min_air_temp_k: double (nullable = true)\n",
      " |-- reanalysis_precip_amt_kg_per_m2: double (nullable = true)\n",
      " |-- reanalysis_relative_humidity_percent: double (nullable = true)\n",
      " |-- reanalysis_sat_precip_amt_mm: double (nullable = true)\n",
      " |-- reanalysis_specific_humidity_g_per_kg: double (nullable = true)\n",
      " |-- reanalysis_tdtr_k: double (nullable = true)\n",
      " |-- station_avg_temp_c: double (nullable = true)\n",
      " |-- station_diur_temp_rng_c: double (nullable = true)\n",
      " |-- station_max_temp_c: double (nullable = true)\n",
      " |-- station_min_temp_c: double (nullable = true)\n",
      " |-- station_precip_mm: double (nullable = true)\n",
      " |-- total_cases: integer (nullable = true)\n",
      " |-- total_cases_double: double (nullable = true)\n",
      " |-- total_cases_bin: integer (nullable = true)\n",
      " |-- log_reanalysis_precip_amt_kg_per_m2: double (nullable = true)\n",
      " |-- log_station_precip_mm: double (nullable = true)\n",
      " |-- log_precipitation_amt_mm: double (nullable = true)\n",
      " |-- log_reanalysis_sat_precip_amt_mm: double (nullable = true)\n",
      " |-- log_reanalysis_tdtr_k: double (nullable = true)\n",
      " |-- log_total_cases: double (nullable = true)\n",
      " |-- features: vector (nullable = true)\n",
      "\n"
     ]
    },
    {
     "data": {
      "text/plain": [
       "[Row(city='sj', year=1990, weekofyear=18, ndvi_ne=0.1226, ndvi_nw=0.103725, ndvi_se=0.1984833, ndvi_sw=0.1776167, precipitation_amt_mm=12.42, reanalysis_air_temp_k=297.572857143, reanalysis_avg_temp_k=297.742857143, reanalysis_dew_point_temp_k=292.414285714, reanalysis_max_air_temp_k=299.8, reanalysis_min_air_temp_k=295.9, reanalysis_precip_amt_kg_per_m2=32.0, reanalysis_relative_humidity_percent=73.3657142857, reanalysis_sat_precip_amt_mm=12.42, reanalysis_specific_humidity_g_per_kg=14.0128571429, reanalysis_tdtr_k=2.62857142857, station_avg_temp_c=25.4428571429, station_diur_temp_rng_c=6.9, station_max_temp_c=29.4, station_min_temp_c=20.0, station_precip_mm=16.0, total_cases=4, total_cases_double=4.0, total_cases_bin=0, log_reanalysis_precip_amt_kg_per_m2=3.4965075614664802, log_station_precip_mm=2.833213344056216, log_precipitation_amt_mm=2.5967461315435356, log_reanalysis_sat_precip_amt_mm=2.5967461315435356, log_reanalysis_tdtr_k=1.2888390249687838, log_total_cases=1.6094379124341003, features=DenseVector([1.2888, 295.9, 6.9, 299.8, 0.1226, 20.0, 0.1037, 0.1776, 297.5729, 0.1985]))]"
      ]
     },
     "execution_count": 12,
     "metadata": {},
     "output_type": "execute_result"
    }
   ],
   "source": [
    "# Check if features column is added to output\n",
    "output2.printSchema()\n",
    "# Check that the features column is a dense vector that combines the various features as expected\n",
    "output2.head(1)"
   ]
  },
  {
   "cell_type": "markdown",
   "metadata": {},
   "source": [
    "#### 6.3.4 Third iteration – selecting relevant features"
   ]
  },
  {
   "cell_type": "code",
   "execution_count": 13,
   "metadata": {},
   "outputs": [
    {
     "data": {
      "text/plain": [
       "[Row(city='sj', year=1990, weekofyear=18, ndvi_ne=0.1226, ndvi_nw=0.103725, ndvi_se=0.1984833, ndvi_sw=0.1776167, precipitation_amt_mm=12.42, reanalysis_air_temp_k=297.572857143, reanalysis_avg_temp_k=297.742857143, reanalysis_dew_point_temp_k=292.414285714, reanalysis_max_air_temp_k=299.8, reanalysis_min_air_temp_k=295.9, reanalysis_precip_amt_kg_per_m2=32.0, reanalysis_relative_humidity_percent=73.3657142857, reanalysis_sat_precip_amt_mm=12.42, reanalysis_specific_humidity_g_per_kg=14.0128571429, reanalysis_tdtr_k=2.62857142857, station_avg_temp_c=25.4428571429, station_diur_temp_rng_c=6.9, station_max_temp_c=29.4, station_min_temp_c=20.0, station_precip_mm=16.0, total_cases=4, total_cases_double=4.0, total_cases_bin=0, log_reanalysis_precip_amt_kg_per_m2=3.4965075614664802, log_station_precip_mm=2.833213344056216, log_precipitation_amt_mm=2.5967461315435356, log_reanalysis_sat_precip_amt_mm=2.5967461315435356, log_reanalysis_tdtr_k=1.2888390249687838, log_total_cases=1.6094379124341003, features=DenseVector([0.1226, 0.1037, 0.1985, 0.1776, 297.5729, 299.8, 295.9, 1.2888]))]"
      ]
     },
     "execution_count": 13,
     "metadata": {},
     "output_type": "execute_result"
    }
   ],
   "source": [
    "# Assemble features vector with the features from Reanalysis only\n",
    "assembler = VectorAssembler(\n",
    "    inputCols=['ndvi_ne', 'ndvi_nw', 'ndvi_se', 'ndvi_sw', 'reanalysis_air_temp_k', 'reanalysis_max_air_temp_k', 'reanalysis_min_air_temp_k', 'log_reanalysis_tdtr_k'],\n",
    "    outputCol=\"features\")\n",
    "# Transform the data using the vector assembler\n",
    "output3r = assembler.transform(data)\n",
    "# Check that the features column is a dense vector that combines the various features as expected\n",
    "output3r.head(1)"
   ]
  },
  {
   "cell_type": "code",
   "execution_count": 14,
   "metadata": {},
   "outputs": [
    {
     "data": {
      "text/plain": [
       "[Row(city='sj', year=1990, weekofyear=18, ndvi_ne=0.1226, ndvi_nw=0.103725, ndvi_se=0.1984833, ndvi_sw=0.1776167, precipitation_amt_mm=12.42, reanalysis_air_temp_k=297.572857143, reanalysis_avg_temp_k=297.742857143, reanalysis_dew_point_temp_k=292.414285714, reanalysis_max_air_temp_k=299.8, reanalysis_min_air_temp_k=295.9, reanalysis_precip_amt_kg_per_m2=32.0, reanalysis_relative_humidity_percent=73.3657142857, reanalysis_sat_precip_amt_mm=12.42, reanalysis_specific_humidity_g_per_kg=14.0128571429, reanalysis_tdtr_k=2.62857142857, station_avg_temp_c=25.4428571429, station_diur_temp_rng_c=6.9, station_max_temp_c=29.4, station_min_temp_c=20.0, station_precip_mm=16.0, total_cases=4, total_cases_double=4.0, total_cases_bin=0, log_reanalysis_precip_amt_kg_per_m2=3.4965075614664802, log_station_precip_mm=2.833213344056216, log_precipitation_amt_mm=2.5967461315435356, log_reanalysis_sat_precip_amt_mm=2.5967461315435356, log_reanalysis_tdtr_k=1.2888390249687838, log_total_cases=1.6094379124341003, features=DenseVector([0.1226, 0.1037, 0.1985, 0.1776, 6.9, 20.0]))]"
      ]
     },
     "execution_count": 14,
     "metadata": {},
     "output_type": "execute_result"
    }
   ],
   "source": [
    "# Assemble features vector with the features from weather stations only\n",
    "assembler = VectorAssembler(\n",
    "    inputCols=['ndvi_ne', 'ndvi_nw', 'ndvi_se', 'ndvi_sw', 'station_diur_temp_rng_c', 'station_min_temp_c'],\n",
    "    outputCol=\"features\")\n",
    "# Transform the data using the vector assembler\n",
    "output3s = assembler.transform(data)\n",
    "# Check that the features column is a dense vector that combines the various features as expected\n",
    "output3s.head(1)"
   ]
  },
  {
   "cell_type": "markdown",
   "metadata": {},
   "source": [
    "## 7. Data Mining"
   ]
  },
  {
   "cell_type": "markdown",
   "metadata": {},
   "source": [
    "### 7.1 Creating and justifying test designs"
   ]
  },
  {
   "cell_type": "markdown",
   "metadata": {},
   "source": [
    "#### 7.1.1 First iteration – partitioning"
   ]
  },
  {
   "cell_type": "code",
   "execution_count": 15,
   "metadata": {},
   "outputs": [
    {
     "name": "stdout",
     "output_type": "stream",
     "text": [
      "+--------------------+---------------+\n",
      "|            features|total_cases_bin|\n",
      "+--------------------+---------------+\n",
      "|[295.9,2.62857142...|              0|\n",
      "|[296.4,2.37142857...|              0|\n",
      "|[297.3,2.3,6.4857...|              0|\n",
      "|[297.0,2.42857142...|              0|\n",
      "|[297.5,3.01428571...|              0|\n",
      "|[297.7,2.04285714...|              0|\n",
      "|[298.4,1.57142857...|              0|\n",
      "|[297.7,1.88571428...|              1|\n",
      "|[298.0,2.15714285...|              0|\n",
      "|[297.3,2.41428571...|              0|\n",
      "|[297.1,2.07142857...|              0|\n",
      "|[298.1,2.48571428...|              1|\n",
      "|[298.7,1.9,6.5285...|              1|\n",
      "|[298.0,3.47142857...|              1|\n",
      "|[299.0,2.9,8.0571...|              1|\n",
      "|[298.7,1.74285714...|              1|\n",
      "|[299.1,2.25714285...|              1|\n",
      "|[299.1,2.9,8.0285...|              1|\n",
      "|[298.1,2.57142857...|              1|\n",
      "|[297.2,1.8,7.6285...|              1|\n",
      "+--------------------+---------------+\n",
      "only showing top 20 rows\n",
      "\n"
     ]
    }
   ],
   "source": [
    "# Select the features and predictor (total_cases_bin) columns for classification\n",
    "final_data_classify_1 = output1.select(\"features\",'total_cases_bin')\n",
    "final_data_classify_1.show()"
   ]
  },
  {
   "cell_type": "code",
   "execution_count": 16,
   "metadata": {},
   "outputs": [],
   "source": [
    "# Split dataset into 80% train and 20% test\n",
    "train_data_classify_1,test_data_classify_1 = final_data_classify_1.randomSplit([0.8,0.2])"
   ]
  },
  {
   "cell_type": "code",
   "execution_count": 17,
   "metadata": {},
   "outputs": [
    {
     "name": "stdout",
     "output_type": "stream",
     "text": [
      "+-------+-------------------+\n",
      "|summary|    total_cases_bin|\n",
      "+-------+-------------------+\n",
      "|  count|                884|\n",
      "|   mean|0.49660633484162897|\n",
      "| stddev| 0.5002715219774297|\n",
      "|    min|                  0|\n",
      "|    max|                  1|\n",
      "+-------+-------------------+\n",
      "\n",
      "+-------+------------------+\n",
      "|summary|   total_cases_bin|\n",
      "+-------+------------------+\n",
      "|  count|               226|\n",
      "|   mean|0.5221238938053098|\n",
      "| stddev| 0.500619085759371|\n",
      "|    min|                 0|\n",
      "|    max|                 1|\n",
      "+-------+------------------+\n",
      "\n"
     ]
    }
   ],
   "source": [
    "# Check training data\n",
    "train_data_classify_1.describe().show()\n",
    "# Check testing data\n",
    "test_data_classify_1.describe().show()"
   ]
  },
  {
   "cell_type": "code",
   "execution_count": 18,
   "metadata": {},
   "outputs": [
    {
     "name": "stdout",
     "output_type": "stream",
     "text": [
      "+--------------------+-----------+\n",
      "|            features|total_cases|\n",
      "+--------------------+-----------+\n",
      "|[295.9,2.62857142...|          4|\n",
      "|[296.4,2.37142857...|          5|\n",
      "|[297.3,2.3,6.4857...|          4|\n",
      "|[297.0,2.42857142...|          3|\n",
      "|[297.5,3.01428571...|          6|\n",
      "|[297.7,2.04285714...|          4|\n",
      "|[298.4,1.57142857...|          5|\n",
      "|[297.7,1.88571428...|         10|\n",
      "|[298.0,2.15714285...|          8|\n",
      "|[297.3,2.41428571...|          2|\n",
      "|[297.1,2.07142857...|          6|\n",
      "|[298.1,2.48571428...|         21|\n",
      "|[298.7,1.9,6.5285...|         28|\n",
      "|[298.0,3.47142857...|         24|\n",
      "|[299.0,2.9,8.0571...|         20|\n",
      "|[298.7,1.74285714...|         40|\n",
      "|[299.1,2.25714285...|         27|\n",
      "|[299.1,2.9,8.0285...|         42|\n",
      "|[298.1,2.57142857...|         33|\n",
      "|[297.2,1.8,7.6285...|         37|\n",
      "+--------------------+-----------+\n",
      "only showing top 20 rows\n",
      "\n"
     ]
    }
   ],
   "source": [
    "# Select the features and predictor (total_cases) columns for regression\n",
    "final_data_regress_1 = output1.select(\"features\",'total_cases')\n",
    "final_data_regress_1.show()"
   ]
  },
  {
   "cell_type": "code",
   "execution_count": 19,
   "metadata": {},
   "outputs": [],
   "source": [
    "# Split dataset into 80% train & 20% test\n",
    "train_data_regress_1,test_data_regress_1 = final_data_regress_1.randomSplit([0.8,0.2])"
   ]
  },
  {
   "cell_type": "code",
   "execution_count": 20,
   "metadata": {},
   "outputs": [
    {
     "name": "stdout",
     "output_type": "stream",
     "text": [
      "+-------+------------------+\n",
      "|summary|       total_cases|\n",
      "+-------+------------------+\n",
      "|  count|               865|\n",
      "|   mean|14.196531791907514|\n",
      "| stddev|13.635236113963586|\n",
      "|    min|                 0|\n",
      "|    max|                62|\n",
      "+-------+------------------+\n",
      "\n",
      "+-------+-----------------+\n",
      "|summary|      total_cases|\n",
      "+-------+-----------------+\n",
      "|  count|              245|\n",
      "|   mean|14.89795918367347|\n",
      "| stddev|14.92473590116886|\n",
      "|    min|                0|\n",
      "|    max|               61|\n",
      "+-------+-----------------+\n",
      "\n"
     ]
    }
   ],
   "source": [
    "# Check training data\n",
    "train_data_regress_1.describe().show()\n",
    "# Check testing data\n",
    "test_data_regress_1.describe().show()"
   ]
  },
  {
   "cell_type": "markdown",
   "metadata": {},
   "source": [
    "#### 7.1.2 Second iteration – partitioning"
   ]
  },
  {
   "cell_type": "code",
   "execution_count": 21,
   "metadata": {},
   "outputs": [
    {
     "name": "stdout",
     "output_type": "stream",
     "text": [
      "+--------------------+---------------+\n",
      "|            features|total_cases_bin|\n",
      "+--------------------+---------------+\n",
      "|[1.28883902496878...|              0|\n",
      "|[1.21533656297667...|              0|\n",
      "|[1.19392246847243...|              0|\n",
      "|[1.23214368129221...|              0|\n",
      "|[1.38985942728545...|              0|\n",
      "|[1.11279692366100...|              0|\n",
      "|[0.94446160884140...|              0|\n",
      "|[1.05977245535036...|              1|\n",
      "|[1.14966745946748...|              0|\n",
      "|[1.22796830988340...|              0|\n",
      "|[1.12214278607876...|              0|\n",
      "|[1.24867298324261...|              1|\n",
      "|[1.06471073699242...|              1|\n",
      "|[1.49770794849111...|              1|\n",
      "|[1.36097655313560...|              1|\n",
      "|[1.00900012997946...|              1|\n",
      "|[1.18085038690420...|              1|\n",
      "|[1.36097655313560...|              1|\n",
      "|[1.27296567581328...|              1|\n",
      "|[1.02961941718115...|              1|\n",
      "+--------------------+---------------+\n",
      "only showing top 20 rows\n",
      "\n"
     ]
    }
   ],
   "source": [
    "# Select the features and predictor (total_cases_bin) columns for classification\n",
    "final_data_classify_2 = output2.select(\"features\",'total_cases_bin')\n",
    "final_data_classify_2.show()"
   ]
  },
  {
   "cell_type": "code",
   "execution_count": 22,
   "metadata": {},
   "outputs": [],
   "source": [
    "# Split dataset into 80% train & 20% test\n",
    "train_data_classify_2,test_data_classify_2 = final_data_classify_2.randomSplit([0.8,0.2])"
   ]
  },
  {
   "cell_type": "code",
   "execution_count": 23,
   "metadata": {},
   "outputs": [
    {
     "name": "stdout",
     "output_type": "stream",
     "text": [
      "+-------+------------------+\n",
      "|summary|   total_cases_bin|\n",
      "+-------+------------------+\n",
      "|  count|               874|\n",
      "|   mean|0.4931350114416476|\n",
      "| stddev|0.5002391296081529|\n",
      "|    min|                 0|\n",
      "|    max|                 1|\n",
      "+-------+------------------+\n",
      "\n",
      "+-------+------------------+\n",
      "|summary|   total_cases_bin|\n",
      "+-------+------------------+\n",
      "|  count|               236|\n",
      "|   mean|0.5338983050847458|\n",
      "| stddev|0.4999098368038833|\n",
      "|    min|                 0|\n",
      "|    max|                 1|\n",
      "+-------+------------------+\n",
      "\n"
     ]
    }
   ],
   "source": [
    "# Check training data\n",
    "train_data_classify_2.describe().show()\n",
    "# Check testing data\n",
    "test_data_classify_2.describe().show()"
   ]
  },
  {
   "cell_type": "code",
   "execution_count": 24,
   "metadata": {},
   "outputs": [
    {
     "name": "stdout",
     "output_type": "stream",
     "text": [
      "+--------------------+------------------+\n",
      "|            features|   log_total_cases|\n",
      "+--------------------+------------------+\n",
      "|[1.28883902496878...|1.6094379124341003|\n",
      "|[1.21533656297667...| 1.791759469228055|\n",
      "|[1.19392246847243...|1.6094379124341003|\n",
      "|[1.23214368129221...|1.3862943611198906|\n",
      "|[1.38985942728545...|1.9459101490553132|\n",
      "|[1.11279692366100...|1.6094379124341003|\n",
      "|[0.94446160884140...| 1.791759469228055|\n",
      "|[1.05977245535036...|2.3978952727983707|\n",
      "|[1.14966745946748...|2.1972245773362196|\n",
      "|[1.22796830988340...|1.0986122886681098|\n",
      "|[1.12214278607876...|1.9459101490553132|\n",
      "|[1.24867298324261...| 3.091042453358316|\n",
      "|[1.06471073699242...| 3.367295829986474|\n",
      "|[1.49770794849111...|3.2188758248682006|\n",
      "|[1.36097655313560...| 3.044522437723423|\n",
      "|[1.00900012997946...| 3.713572066704308|\n",
      "|[1.18085038690420...| 3.332204510175204|\n",
      "|[1.36097655313560...|3.7612001156935624|\n",
      "|[1.27296567581328...|3.5263605246161616|\n",
      "|[1.02961941718115...|3.6375861597263857|\n",
      "+--------------------+------------------+\n",
      "only showing top 20 rows\n",
      "\n"
     ]
    }
   ],
   "source": [
    "# Select the features and predictor (log_total_cases) columns for regression\n",
    "final_data_regress_2 = output2.select(\"features\",'log_total_cases')\n",
    "final_data_regress_2.show()"
   ]
  },
  {
   "cell_type": "code",
   "execution_count": 25,
   "metadata": {},
   "outputs": [],
   "source": [
    "# Split dataset into 80% train & 20% test\n",
    "train_data_regress_2,test_data_regress_2 = final_data_regress_2.randomSplit([0.8,0.2])"
   ]
  },
  {
   "cell_type": "code",
   "execution_count": 26,
   "metadata": {},
   "outputs": [
    {
     "name": "stdout",
     "output_type": "stream",
     "text": [
      "+-------+------------------+\n",
      "|summary|   log_total_cases|\n",
      "+-------+------------------+\n",
      "|  count|               902|\n",
      "|   mean|2.2395759294795248|\n",
      "| stddev|1.0916918271615843|\n",
      "|    min|               0.0|\n",
      "|    max| 4.143134726391533|\n",
      "+-------+------------------+\n",
      "\n",
      "+-------+------------------+\n",
      "|summary|   log_total_cases|\n",
      "+-------+------------------+\n",
      "|  count|               208|\n",
      "|   mean| 2.309641220676066|\n",
      "| stddev|1.0412405213226457|\n",
      "|    min|               0.0|\n",
      "|    max| 4.110873864173311|\n",
      "+-------+------------------+\n",
      "\n"
     ]
    }
   ],
   "source": [
    "# Check training data\n",
    "train_data_regress_2.describe().show()\n",
    "# Check testing data\n",
    "test_data_regress_2.describe().show()"
   ]
  },
  {
   "cell_type": "markdown",
   "metadata": {},
   "source": [
    "#### 7.1.3 Third iteration – partitioning"
   ]
  },
  {
   "cell_type": "code",
   "execution_count": 27,
   "metadata": {},
   "outputs": [
    {
     "name": "stdout",
     "output_type": "stream",
     "text": [
      "+--------------------+------------------+\n",
      "|            features|   log_total_cases|\n",
      "+--------------------+------------------+\n",
      "|[0.1226,0.103725,...|1.6094379124341003|\n",
      "|[0.1699,0.142175,...| 1.791759469228055|\n",
      "|[0.03225,0.172966...|1.6094379124341003|\n",
      "+--------------------+------------------+\n",
      "only showing top 3 rows\n",
      "\n"
     ]
    }
   ],
   "source": [
    "# Select the Reanalysis features and predictor (log_total_cases) columns for regression\n",
    "final_data_regress_3r = output3r.select(\"features\",'log_total_cases')\n",
    "final_data_regress_3r.show(3)"
   ]
  },
  {
   "cell_type": "code",
   "execution_count": 28,
   "metadata": {},
   "outputs": [],
   "source": [
    "# Split dataset into 80% train & 20% test\n",
    "train_data_regress_3r,test_data_regress_3r = final_data_regress_3r.randomSplit([0.8,0.2])"
   ]
  },
  {
   "cell_type": "code",
   "execution_count": 29,
   "metadata": {},
   "outputs": [
    {
     "name": "stdout",
     "output_type": "stream",
     "text": [
      "+-------+------------------+\n",
      "|summary|   log_total_cases|\n",
      "+-------+------------------+\n",
      "|  count|               886|\n",
      "|   mean|2.2325879669936004|\n",
      "| stddev|1.0797123823877879|\n",
      "|    min|               0.0|\n",
      "|    max| 4.143134726391533|\n",
      "+-------+------------------+\n",
      "\n",
      "+-------+------------------+\n",
      "|summary|   log_total_cases|\n",
      "+-------+------------------+\n",
      "|  count|               224|\n",
      "|   mean|2.3322764443518937|\n",
      "| stddev|1.0912781518000692|\n",
      "|    min|               0.0|\n",
      "|    max| 4.110873864173311|\n",
      "+-------+------------------+\n",
      "\n"
     ]
    }
   ],
   "source": [
    "# Check training data\n",
    "train_data_regress_3r.describe().show()\n",
    "# Check testing data\n",
    "test_data_regress_3r.describe().show()"
   ]
  },
  {
   "cell_type": "code",
   "execution_count": 30,
   "metadata": {},
   "outputs": [
    {
     "name": "stdout",
     "output_type": "stream",
     "text": [
      "+--------------------+------------------+\n",
      "|            features|   log_total_cases|\n",
      "+--------------------+------------------+\n",
      "|[0.1226,0.103725,...|1.6094379124341003|\n",
      "|[0.1699,0.142175,...| 1.791759469228055|\n",
      "|[0.03225,0.172966...|1.6094379124341003|\n",
      "+--------------------+------------------+\n",
      "only showing top 3 rows\n",
      "\n"
     ]
    }
   ],
   "source": [
    "# Select the weather station features and predictor (log_total_cases) columns for regression\n",
    "final_data_regress_3s = output3s.select(\"features\",'log_total_cases')\n",
    "final_data_regress_3s.show(3)"
   ]
  },
  {
   "cell_type": "code",
   "execution_count": 31,
   "metadata": {},
   "outputs": [],
   "source": [
    "# Split dataset into 80% train & 20% test\n",
    "train_data_regress_3s,test_data_regress_3s = final_data_regress_3s.randomSplit([0.8,0.2])"
   ]
  },
  {
   "cell_type": "code",
   "execution_count": 32,
   "metadata": {},
   "outputs": [
    {
     "name": "stdout",
     "output_type": "stream",
     "text": [
      "+-------+------------------+\n",
      "|summary|   log_total_cases|\n",
      "+-------+------------------+\n",
      "|  count|               885|\n",
      "|   mean| 2.249658445948913|\n",
      "| stddev|1.0764332737728013|\n",
      "|    min|               0.0|\n",
      "|    max| 4.143134726391533|\n",
      "+-------+------------------+\n",
      "\n",
      "+-------+------------------+\n",
      "|summary|   log_total_cases|\n",
      "+-------+------------------+\n",
      "|  count|               225|\n",
      "|   mean|2.2646895005616257|\n",
      "| stddev|1.1074427655939094|\n",
      "|    min|               0.0|\n",
      "|    max| 4.060443010546419|\n",
      "+-------+------------------+\n",
      "\n"
     ]
    }
   ],
   "source": [
    "# Check training data\n",
    "train_data_regress_3s.describe().show()\n",
    "# Check testing data\n",
    "test_data_regress_3s.describe().show()"
   ]
  },
  {
   "cell_type": "markdown",
   "metadata": {},
   "source": [
    "### 7.2 Conducting data mining"
   ]
  },
  {
   "cell_type": "code",
   "execution_count": 33,
   "metadata": {},
   "outputs": [],
   "source": [
    "from pyspark.ml.evaluation import MulticlassClassificationEvaluator, RegressionEvaluator"
   ]
  },
  {
   "cell_type": "markdown",
   "metadata": {},
   "source": [
    "#### 7.2.1 First iteration – data mining"
   ]
  },
  {
   "cell_type": "code",
   "execution_count": 34,
   "metadata": {},
   "outputs": [],
   "source": [
    "# Decision Tree Classifier (first iteration)\n",
    "dtc1 = DecisionTreeClassifier(labelCol='total_cases_bin',featuresCol='features')\n",
    "dtc1_model = dtc1.fit(train_data_classify_1)\n",
    "dtc1_predictions = dtc1_model.transform(test_data_classify_1)"
   ]
  },
  {
   "cell_type": "code",
   "execution_count": 35,
   "metadata": {},
   "outputs": [
    {
     "name": "stdout",
     "output_type": "stream",
     "text": [
      "Decision Tree has an accuracy of: 66.81%\n"
     ]
    }
   ],
   "source": [
    "# Compute accuracy\n",
    "acc_evaluator = MulticlassClassificationEvaluator(labelCol=\"total_cases_bin\", predictionCol=\"prediction\", metricName=\"accuracy\")\n",
    "dtc1_acc = acc_evaluator.evaluate(dtc1_predictions)\n",
    "print('Decision Tree has an accuracy of: {0:2.2f}%'.format(dtc1_acc*100))"
   ]
  },
  {
   "cell_type": "code",
   "execution_count": 36,
   "metadata": {},
   "outputs": [],
   "source": [
    "# Logistic Regression (first iteration)\n",
    "logreg1 = LogisticRegression(labelCol='total_cases_bin', featuresCol='features')\n",
    "logreg1_model = logreg1.fit(train_data_classify_1)\n",
    "logreg1_predictions = logreg1_model.transform(test_data_classify_1)"
   ]
  },
  {
   "cell_type": "code",
   "execution_count": 37,
   "metadata": {},
   "outputs": [
    {
     "name": "stdout",
     "output_type": "stream",
     "text": [
      "Logistic Regression has an accuracy of: 72.57%\n"
     ]
    }
   ],
   "source": [
    "# Compute accuracy\n",
    "acc_evaluator = MulticlassClassificationEvaluator(labelCol=\"total_cases_bin\", predictionCol=\"prediction\", metricName=\"accuracy\")\n",
    "logreg1_acc = acc_evaluator.evaluate(logreg1_predictions)\n",
    "print('Logistic Regression has an accuracy of: {0:2.2f}%'.format(logreg1_acc*100))"
   ]
  },
  {
   "cell_type": "code",
   "execution_count": 38,
   "metadata": {},
   "outputs": [],
   "source": [
    "# OneVsRest (first iteration)\n",
    "ovr_lr1 = LogisticRegression(maxIter=10, tol=1E-6, fitIntercept=True)\n",
    "ovr1 = OneVsRest(classifier=ovr_lr1, labelCol='total_cases_bin', featuresCol='features')\n",
    "ovr1_model = ovr1.fit(train_data_classify_1)\n",
    "ovr1_predictions = ovr1_model.transform(test_data_classify_1)"
   ]
  },
  {
   "cell_type": "code",
   "execution_count": 39,
   "metadata": {},
   "outputs": [
    {
     "name": "stdout",
     "output_type": "stream",
     "text": [
      "OneVsRest has an accuracy of: 56.64%\n"
     ]
    }
   ],
   "source": [
    "# Compute accuracy\n",
    "acc_evaluator = MulticlassClassificationEvaluator(labelCol=\"total_cases_bin\", predictionCol=\"prediction\", metricName=\"accuracy\")\n",
    "ovr1_acc = acc_evaluator.evaluate(ovr1_predictions)\n",
    "print('OneVsRest has an accuracy of: {0:2.2f}%'.format(ovr1_acc*100))"
   ]
  },
  {
   "cell_type": "code",
   "execution_count": 40,
   "metadata": {},
   "outputs": [],
   "source": [
    "# GBTClassifier (first iteration)\n",
    "gbt1 = GBTClassifier(labelCol='total_cases_bin', featuresCol='features', maxIter=10)\n",
    "gbt1_model = gbt1.fit(train_data_classify_1)\n",
    "gbt1_predictions = gbt1_model.transform(test_data_classify_1)"
   ]
  },
  {
   "cell_type": "code",
   "execution_count": 41,
   "metadata": {},
   "outputs": [
    {
     "name": "stdout",
     "output_type": "stream",
     "text": [
      "GBTClassifier has an accuracy of: 69.03%\n"
     ]
    }
   ],
   "source": [
    "# Compute accuracy\n",
    "acc_evaluator = MulticlassClassificationEvaluator(labelCol=\"total_cases_bin\", predictionCol=\"prediction\", metricName=\"accuracy\")\n",
    "gbt1_acc = acc_evaluator.evaluate(gbt1_predictions)\n",
    "print('GBTClassifier has an accuracy of: {0:2.2f}%'.format(gbt1_acc*100))"
   ]
  },
  {
   "cell_type": "code",
   "execution_count": 42,
   "metadata": {},
   "outputs": [
    {
     "name": "stdout",
     "output_type": "stream",
     "text": [
      "Coefficients: [-0.496604631725033,-1.9625557018260267,0.509718743773667,-0.376481349071609,0.0624847984581782,2.9756312056514718,0.8776715496837407,15.569698540664746] Intercept: -610.6261653526196\n"
     ]
    }
   ],
   "source": [
    "# Linear Regression (first iteration)\n",
    "lr1 = LinearRegression(labelCol='total_cases')\n",
    "lr1_model = lr1.fit(train_data_regress_1)\n",
    "lr1_predictions = lr1_model.transform(test_data_regress_1)\n",
    "# Print coefficients and intercept for linear regression\n",
    "print(\"Coefficients: {} Intercept: {}\".format(lr1_model.coefficients,lr1_model.intercept))"
   ]
  },
  {
   "cell_type": "code",
   "execution_count": 43,
   "metadata": {},
   "outputs": [
    {
     "name": "stdout",
     "output_type": "stream",
     "text": [
      "Root Mean Squared Error (RMSE) for Linear Regression = 13.0589\n",
      "R-squared for Linear Regression = 0.231267\n"
     ]
    }
   ],
   "source": [
    "# Compute RMSE\n",
    "acc_evaluator = RegressionEvaluator(labelCol=\"total_cases\", predictionCol=\"prediction\", metricName=\"rmse\")\n",
    "lr1_rmse = acc_evaluator.evaluate(lr1_predictions)\n",
    "print(\"Root Mean Squared Error (RMSE) for Linear Regression = %g\" % lr1_rmse)\n",
    "# Compute R-squared\n",
    "acc_evaluator = RegressionEvaluator(labelCol=\"total_cases\", predictionCol=\"prediction\", metricName=\"r2\")\n",
    "lr1_r2 = acc_evaluator.evaluate(lr1_predictions)\n",
    "print(\"R-squared for Linear Regression = %g\" % lr1_r2)"
   ]
  },
  {
   "cell_type": "code",
   "execution_count": 44,
   "metadata": {},
   "outputs": [
    {
     "name": "stdout",
     "output_type": "stream",
     "text": [
      "Coefficients: [0.21852966227037443,-1.2944842121648552,0.31791763123917754,-0.5613556292894023,0.13399355427860665,2.234254601856846,0.9865659775853675,14.136803442746745] Intercept: -547.7061608282986\n"
     ]
    }
   ],
   "source": [
    "# Generalized Linear Model (first iteration)\n",
    "glr1 = GeneralizedLinearRegression(labelCol='total_cases', family=\"gaussian\", maxIter=10, regParam=0.3)\n",
    "glr1_model = glr1.fit(train_data_regress_1)\n",
    "glr1_predictions = glr1_model.transform(test_data_regress_1)\n",
    "# Print coefficients and intercept for GLM\n",
    "print(\"Coefficients: {} Intercept: {}\".format(glr1_model.coefficients,glr1_model.intercept))"
   ]
  },
  {
   "cell_type": "code",
   "execution_count": 45,
   "metadata": {},
   "outputs": [
    {
     "name": "stdout",
     "output_type": "stream",
     "text": [
      "Root Mean Squared Error (RMSE) for GLM = 13.0734\n",
      "R-squared for Linear Regression = 0.229554\n"
     ]
    }
   ],
   "source": [
    "# Compute RMSE\n",
    "acc_evaluator = RegressionEvaluator(labelCol=\"total_cases\", predictionCol=\"prediction\", metricName=\"rmse\")\n",
    "glr1_rmse = acc_evaluator.evaluate(glr1_predictions)\n",
    "print(\"Root Mean Squared Error (RMSE) for GLM = %g\" % glr1_rmse)\n",
    "# Compute R-squared\n",
    "acc_evaluator = RegressionEvaluator(labelCol=\"total_cases\", predictionCol=\"prediction\", metricName=\"r2\")\n",
    "glr1_r2 = acc_evaluator.evaluate(glr1_predictions)\n",
    "print(\"R-squared for Linear Regression = %g\" % glr1_r2)"
   ]
  },
  {
   "cell_type": "code",
   "execution_count": 46,
   "metadata": {},
   "outputs": [],
   "source": [
    "# GBTRegressor (first iteration)\n",
    "gbtr1 = GBTRegressor(labelCol='total_cases', featuresCol='features', maxIter=10)\n",
    "gbtr1_model = gbtr1.fit(train_data_regress_1)\n",
    "gbtr1_predictions = gbtr1_model.transform(test_data_regress_1)"
   ]
  },
  {
   "cell_type": "code",
   "execution_count": 47,
   "metadata": {},
   "outputs": [
    {
     "name": "stdout",
     "output_type": "stream",
     "text": [
      "Root Mean Squared Error (RMSE) for GBTRegressor = 13.7668\n",
      "R-squared for Linear Regression = 0.145664\n"
     ]
    }
   ],
   "source": [
    "# Compute RMSE\n",
    "acc_evaluator = RegressionEvaluator(labelCol=\"total_cases\", predictionCol=\"prediction\", metricName=\"rmse\")\n",
    "gbtr1_rmse = acc_evaluator.evaluate(gbtr1_predictions)\n",
    "print(\"Root Mean Squared Error (RMSE) for GBTRegressor = %g\" % gbtr1_rmse)\n",
    "# Compute R-squared\n",
    "acc_evaluator = RegressionEvaluator(labelCol=\"total_cases\", predictionCol=\"prediction\", metricName=\"r2\")\n",
    "gbtr1_r2 = acc_evaluator.evaluate(gbtr1_predictions)\n",
    "print(\"R-squared for Linear Regression = %g\" % gbtr1_r2)"
   ]
  },
  {
   "cell_type": "markdown",
   "metadata": {},
   "source": [
    "#### 7.2.2 Second iteration – data mining"
   ]
  },
  {
   "cell_type": "code",
   "execution_count": 48,
   "metadata": {},
   "outputs": [],
   "source": [
    "# Decision Tree Classifier (second iteration)\n",
    "dtc2 = DecisionTreeClassifier(labelCol='total_cases_bin',featuresCol='features')\n",
    "dtc2_model = dtc2.fit(train_data_classify_2)\n",
    "dtc2_predictions = dtc2_model.transform(test_data_classify_2)"
   ]
  },
  {
   "cell_type": "code",
   "execution_count": 49,
   "metadata": {},
   "outputs": [
    {
     "name": "stdout",
     "output_type": "stream",
     "text": [
      "Decision Tree has an accuracy of: 73.31%\n"
     ]
    }
   ],
   "source": [
    "# Compute accuracy\n",
    "acc_evaluator = MulticlassClassificationEvaluator(labelCol=\"total_cases_bin\", predictionCol=\"prediction\", metricName=\"accuracy\")\n",
    "dtc2_acc = acc_evaluator.evaluate(dtc2_predictions)\n",
    "print('Decision Tree has an accuracy of: {0:2.2f}%'.format(dtc2_acc*100))"
   ]
  },
  {
   "cell_type": "code",
   "execution_count": 50,
   "metadata": {},
   "outputs": [],
   "source": [
    "# Logistic Regression (second iteration)\n",
    "logreg2 = LogisticRegression(labelCol='total_cases_bin', featuresCol='features')\n",
    "logreg2_model = logreg2.fit(train_data_classify_2)\n",
    "logreg2_predictions = logreg2_model.transform(test_data_classify_2)"
   ]
  },
  {
   "cell_type": "code",
   "execution_count": 51,
   "metadata": {},
   "outputs": [
    {
     "name": "stdout",
     "output_type": "stream",
     "text": [
      "Logistic Regression has an accuracy of: 75.00%\n"
     ]
    }
   ],
   "source": [
    "# Compute accuracy\n",
    "acc_evaluator = MulticlassClassificationEvaluator(labelCol=\"total_cases_bin\", predictionCol=\"prediction\", metricName=\"accuracy\")\n",
    "logreg2_acc = acc_evaluator.evaluate(logreg2_predictions)\n",
    "print('Logistic Regression has an accuracy of: {0:2.2f}%'.format(logreg2_acc*100))"
   ]
  },
  {
   "cell_type": "code",
   "execution_count": 52,
   "metadata": {},
   "outputs": [],
   "source": [
    "# OneVsRest (second iteration)\n",
    "ovr_lr2 = LogisticRegression(maxIter=10, tol=1E-6, fitIntercept=True)\n",
    "ovr2 = OneVsRest(classifier=ovr_lr2, labelCol='total_cases_bin', featuresCol='features')\n",
    "ovr2_model = ovr2.fit(train_data_classify_2)\n",
    "ovr2_predictions = ovr2_model.transform(test_data_classify_2)"
   ]
  },
  {
   "cell_type": "code",
   "execution_count": 53,
   "metadata": {},
   "outputs": [
    {
     "name": "stdout",
     "output_type": "stream",
     "text": [
      "OneVsRest has an accuracy of: 63.98%\n"
     ]
    }
   ],
   "source": [
    "# Compute accuracy\n",
    "acc_evaluator = MulticlassClassificationEvaluator(labelCol=\"total_cases_bin\", predictionCol=\"prediction\", metricName=\"accuracy\")\n",
    "ovr2_acc = acc_evaluator.evaluate(ovr2_predictions)\n",
    "print('OneVsRest has an accuracy of: {0:2.2f}%'.format(ovr2_acc*100))"
   ]
  },
  {
   "cell_type": "code",
   "execution_count": 54,
   "metadata": {},
   "outputs": [],
   "source": [
    "# GBTClassifier (second iteration)\n",
    "gbt2 = GBTClassifier(labelCol='total_cases_bin', featuresCol='features', maxIter=10)\n",
    "gbt2_model = gbt2.fit(train_data_classify_2)\n",
    "gbt2_predictions = gbt2_model.transform(test_data_classify_2)"
   ]
  },
  {
   "cell_type": "code",
   "execution_count": 55,
   "metadata": {},
   "outputs": [
    {
     "name": "stdout",
     "output_type": "stream",
     "text": [
      "GBTClassifier has an accuracy of: 72.03%\n"
     ]
    }
   ],
   "source": [
    "# Compute accuracy\n",
    "acc_evaluator = MulticlassClassificationEvaluator(labelCol=\"total_cases_bin\", predictionCol=\"prediction\", metricName=\"accuracy\")\n",
    "gbt2_acc = acc_evaluator.evaluate(gbt2_predictions)\n",
    "print('GBTClassifier has an accuracy of: {0:2.2f}%'.format(gbt2_acc*100))"
   ]
  },
  {
   "cell_type": "code",
   "execution_count": 56,
   "metadata": {},
   "outputs": [
    {
     "name": "stdout",
     "output_type": "stream",
     "text": [
      "Coefficients: [-0.6816574014913207,0.003928753558359545,0.037428899197564945,-0.08034892049661402,0.2478146301463358,0.033597358755683024,1.101839463137585,0.22440113584973462,0.2055205691797968,-1.484835165775872] Intercept: -35.69212180273884\n"
     ]
    }
   ],
   "source": [
    "# Linear Regression (second iteration)\n",
    "lr2 = LinearRegression(labelCol='log_total_cases')\n",
    "lr2_model = lr2.fit(train_data_regress_2)\n",
    "lr2_predictions = lr2_model.transform(test_data_regress_2)\n",
    "# Print coefficients and intercept for linear regression\n",
    "print(\"Coefficients: {} Intercept: {}\".format(lr2_model.coefficients,lr2_model.intercept))"
   ]
  },
  {
   "cell_type": "code",
   "execution_count": 57,
   "metadata": {},
   "outputs": [
    {
     "name": "stdout",
     "output_type": "stream",
     "text": [
      "Root Mean Squared Error (RMSE) for Linear Regression = 0.878492\n",
      "R-squared for Linear Regression = 0.284736\n"
     ]
    }
   ],
   "source": [
    "# Compute RMSE\n",
    "acc_evaluator = RegressionEvaluator(labelCol=\"log_total_cases\", predictionCol=\"prediction\", metricName=\"rmse\")\n",
    "lr2_rmse = acc_evaluator.evaluate(lr2_predictions)\n",
    "print(\"Root Mean Squared Error (RMSE) for Linear Regression = %g\" % lr2_rmse)\n",
    "# Compute R-squared\n",
    "acc_evaluator = RegressionEvaluator(labelCol=\"log_total_cases\", predictionCol=\"prediction\", metricName=\"r2\")\n",
    "lr2_r2 = acc_evaluator.evaluate(lr2_predictions)\n",
    "print(\"R-squared for Linear Regression = %g\" % lr2_r2)"
   ]
  },
  {
   "cell_type": "code",
   "execution_count": 58,
   "metadata": {},
   "outputs": [
    {
     "name": "stdout",
     "output_type": "stream",
     "text": [
      "Coefficients: [-0.33164726997046823,0.05792197059644615,-0.020584692859291254,-0.04413016693994833,0.0398817925601855,0.040499588362277086,0.46375787065314045,-0.16652378412596297,0.09754748626415877,-0.7921955590358807] Intercept: -30.605198610983276\n"
     ]
    }
   ],
   "source": [
    "# Generalized Linear Model (second iteration)\n",
    "glr2 = GeneralizedLinearRegression(labelCol='log_total_cases', family=\"gaussian\", maxIter=10, regParam=0.3)\n",
    "glr2_model = glr2.fit(train_data_regress_2)\n",
    "glr2_predictions = glr2_model.transform(test_data_regress_2)\n",
    "# Print coefficients and intercept for GLM\n",
    "print(\"Coefficients: {} Intercept: {}\".format(glr2_model.coefficients,glr2_model.intercept))"
   ]
  },
  {
   "cell_type": "code",
   "execution_count": 59,
   "metadata": {},
   "outputs": [
    {
     "name": "stdout",
     "output_type": "stream",
     "text": [
      "Root Mean Squared Error (RMSE) for GLM = 0.871846\n",
      "R-squared for Linear Regression = 0.295517\n"
     ]
    }
   ],
   "source": [
    "# Compute RMSE\n",
    "acc_evaluator = RegressionEvaluator(labelCol=\"log_total_cases\", predictionCol=\"prediction\", metricName=\"rmse\")\n",
    "glr2_rmse = acc_evaluator.evaluate(glr2_predictions)\n",
    "print(\"Root Mean Squared Error (RMSE) for GLM = %g\" % glr2_rmse)\n",
    "# Compute R-squared\n",
    "acc_evaluator = RegressionEvaluator(labelCol=\"log_total_cases\", predictionCol=\"prediction\", metricName=\"r2\")\n",
    "glr2_r2 = acc_evaluator.evaluate(glr2_predictions)\n",
    "print(\"R-squared for Linear Regression = %g\" % glr2_r2)"
   ]
  },
  {
   "cell_type": "code",
   "execution_count": 60,
   "metadata": {},
   "outputs": [],
   "source": [
    "# GBTRegressor (second iteration)\n",
    "gbtr2 = GBTRegressor(labelCol='log_total_cases', featuresCol='features', maxIter=10)\n",
    "gbtr2_model = gbtr2.fit(train_data_regress_2)\n",
    "gbtr2_predictions = gbtr2_model.transform(test_data_regress_2)"
   ]
  },
  {
   "cell_type": "code",
   "execution_count": 61,
   "metadata": {},
   "outputs": [
    {
     "name": "stdout",
     "output_type": "stream",
     "text": [
      "Root Mean Squared Error (RMSE) for GBTRegressor = 0.883995\n",
      "R-squared for Linear Regression = 0.275747\n"
     ]
    }
   ],
   "source": [
    "# Compute RMSE\n",
    "acc_evaluator = RegressionEvaluator(labelCol=\"log_total_cases\", predictionCol=\"prediction\", metricName=\"rmse\")\n",
    "gbtr2_rmse = acc_evaluator.evaluate(gbtr2_predictions)\n",
    "print(\"Root Mean Squared Error (RMSE) for GBTRegressor = %g\" % gbtr2_rmse)\n",
    "# Compute R-squared\n",
    "acc_evaluator = RegressionEvaluator(labelCol=\"log_total_cases\", predictionCol=\"prediction\", metricName=\"r2\")\n",
    "gbtr2_r2 = acc_evaluator.evaluate(gbtr2_predictions)\n",
    "print(\"R-squared for Linear Regression = %g\" % gbtr2_r2)"
   ]
  },
  {
   "cell_type": "markdown",
   "metadata": {},
   "source": [
    "#### 7.2.3 Third iteration – data mining"
   ]
  },
  {
   "cell_type": "code",
   "execution_count": 62,
   "metadata": {},
   "outputs": [
    {
     "name": "stdout",
     "output_type": "stream",
     "text": [
      "Coefficients: [0.24134113971764276,0.8463321607699719,-0.6116300058359415,0.13736355294069397,0.18735387644877635,-0.0307797688406168,0.011069527281093876,-0.8679602512368433] Intercept: -46.21514569976728\n"
     ]
    }
   ],
   "source": [
    "# Linear Regression with Reanalysis features (third iteration)\n",
    "lr3r = LinearRegression(labelCol='log_total_cases')\n",
    "lr3r_model = lr3r.fit(train_data_regress_3r)\n",
    "lr3r_predictions = lr3r_model.transform(test_data_regress_3r)\n",
    "# Print coefficients and intercept for linear regression\n",
    "print(\"Coefficients: {} Intercept: {}\".format(lr3r_model.coefficients,lr3r_model.intercept))"
   ]
  },
  {
   "cell_type": "code",
   "execution_count": 63,
   "metadata": {},
   "outputs": [
    {
     "name": "stdout",
     "output_type": "stream",
     "text": [
      "Root Mean Squared Error (RMSE) for Linear Regression = 0.902799\n",
      "R-squared for Linear Regression = 0.312528\n"
     ]
    }
   ],
   "source": [
    "# Compute RMSE\n",
    "acc_evaluator = RegressionEvaluator(labelCol=\"log_total_cases\", predictionCol=\"prediction\", metricName=\"rmse\")\n",
    "lr3r_rmse = acc_evaluator.evaluate(lr3r_predictions)\n",
    "print(\"Root Mean Squared Error (RMSE) for Linear Regression = %g\" % lr3r_rmse)\n",
    "# Compute R-squared\n",
    "acc_evaluator = RegressionEvaluator(labelCol=\"log_total_cases\", predictionCol=\"prediction\", metricName=\"r2\")\n",
    "lr3r_r2 = acc_evaluator.evaluate(lr3r_predictions)\n",
    "print(\"R-squared for Linear Regression = %g\" % lr3r_r2)"
   ]
  },
  {
   "cell_type": "code",
   "execution_count": 64,
   "metadata": {},
   "outputs": [
    {
     "name": "stdout",
     "output_type": "stream",
     "text": [
      "Coefficients: [-1.172387533040553,0.7984310994870379,-0.6568729652672466,-0.18544184608735223,-0.17019059196536473,0.10053839328538905] Intercept: 1.6934701418572575\n"
     ]
    }
   ],
   "source": [
    "# Linear Regression with weather station features (third iteration)\n",
    "lr3s = LinearRegression(labelCol='log_total_cases')\n",
    "lr3s_model = lr3s.fit(train_data_regress_3s)\n",
    "lr3s_predictions = lr3s_model.transform(test_data_regress_3s)\n",
    "# Print coefficients and intercept for linear regression\n",
    "print(\"Coefficients: {} Intercept: {}\".format(lr3s_model.coefficients,lr3s_model.intercept))"
   ]
  },
  {
   "cell_type": "code",
   "execution_count": 65,
   "metadata": {},
   "outputs": [
    {
     "name": "stdout",
     "output_type": "stream",
     "text": [
      "Root Mean Squared Error (RMSE) for Linear Regression = 0.953052\n",
      "R-squared for Linear Regression = 0.256082\n"
     ]
    }
   ],
   "source": [
    "# Compute RMSE\n",
    "acc_evaluator = RegressionEvaluator(labelCol=\"log_total_cases\", predictionCol=\"prediction\", metricName=\"rmse\")\n",
    "lr3s_rmse = acc_evaluator.evaluate(lr3s_predictions)\n",
    "print(\"Root Mean Squared Error (RMSE) for Linear Regression = %g\" % lr3s_rmse)\n",
    "# Compute R-squared\n",
    "acc_evaluator = RegressionEvaluator(labelCol=\"log_total_cases\", predictionCol=\"prediction\", metricName=\"r2\")\n",
    "lr3s_r2 = acc_evaluator.evaluate(lr3s_predictions)\n",
    "print(\"R-squared for Linear Regression = %g\" % lr3s_r2)"
   ]
  },
  {
   "cell_type": "markdown",
   "metadata": {},
   "source": [
    "### 7.3 Searching for patterns"
   ]
  },
  {
   "cell_type": "markdown",
   "metadata": {},
   "source": [
    "#### 7.3.1 Patterns identified in the first iteration"
   ]
  },
  {
   "cell_type": "code",
   "execution_count": 66,
   "metadata": {},
   "outputs": [
    {
     "name": "stdout",
     "output_type": "stream",
     "text": [
      "reanalysis_min_air_temp_k: 0.05964107093292319\n",
      "reanalysis_tdtr_k: 0.659652007778633\n",
      "station_diur_temp_rng_c: 0.03398573488088509\n",
      "reanalysis_max_air_temp_k: 0.037852485804469205\n",
      "station_min_temp_c: 0.026081501412962272\n",
      "reanalysis_air_temp_k: 0.021404543769074618\n",
      "ndvi_ne: 0.09852898186090363\n",
      "ndvi_nw: 0.06285367356014895\n"
     ]
    }
   ],
   "source": [
    "# Print feature importances in Decision Tree Classifier (first iteration)\n",
    "first_features = ['reanalysis_min_air_temp_k', 'reanalysis_tdtr_k', 'station_diur_temp_rng_c', 'reanalysis_max_air_temp_k', 'station_min_temp_c', 'reanalysis_air_temp_k', 'ndvi_ne', 'ndvi_nw']\n",
    "dtc1_importance = dtc1_model.featureImportances.toArray()\n",
    "for i in range(len(first_features)):\n",
    "    print(\"{}: {}\".format(first_features[i], dtc1_importance[i]))"
   ]
  },
  {
   "cell_type": "code",
   "execution_count": 67,
   "metadata": {},
   "outputs": [
    {
     "name": "stdout",
     "output_type": "stream",
     "text": [
      "reanalysis_min_air_temp_k: 0.10696671669088618\n",
      "reanalysis_tdtr_k: 0.20324594852675398\n",
      "station_diur_temp_rng_c: 0.13245133459301534\n",
      "reanalysis_max_air_temp_k: 0.10862676922828621\n",
      "station_min_temp_c: 0.08778388541689933\n",
      "reanalysis_air_temp_k: 0.11122140563058895\n",
      "ndvi_ne: 0.1163742847912557\n",
      "ndvi_nw: 0.13332965512231426\n"
     ]
    }
   ],
   "source": [
    "# Print feature importances in GBT Classifier (first iteration)\n",
    "gbt1_importance = gbt1_model.featureImportances\n",
    "for i in range(len(first_features)):\n",
    "    print(\"{}: {}\".format(first_features[i], gbt1_importance[i]))"
   ]
  },
  {
   "cell_type": "code",
   "execution_count": 68,
   "metadata": {},
   "outputs": [
    {
     "name": "stdout",
     "output_type": "stream",
     "text": [
      "reanalysis_min_air_temp_k: -0.496604631725033\n",
      "reanalysis_tdtr_k: -1.9625557018260267\n",
      "station_diur_temp_rng_c: 0.509718743773667\n",
      "reanalysis_max_air_temp_k: -0.376481349071609\n",
      "station_min_temp_c: 0.0624847984581782\n",
      "reanalysis_air_temp_k: 2.9756312056514718\n",
      "ndvi_ne: 0.8776715496837407\n",
      "ndvi_nw: 15.569698540664746\n"
     ]
    }
   ],
   "source": [
    "# Coefficients of the Linear Regression model (first iteration)\n",
    "for i in range(len(first_features)):\n",
    "    print(\"{}: {}\".format(first_features[i], lr1_model.coefficients[i]))"
   ]
  },
  {
   "cell_type": "markdown",
   "metadata": {},
   "source": [
    "#### 7.3.2 Patterns identified in the second iteration"
   ]
  },
  {
   "cell_type": "code",
   "execution_count": 69,
   "metadata": {},
   "outputs": [
    {
     "name": "stdout",
     "output_type": "stream",
     "text": [
      "log_reanalysis_tdtr_k: 0.6461364649095332\n",
      "reanalysis_min_air_temp_k: 0.05670329089917224\n",
      "station_diur_temp_rng_c: 0.0\n",
      "reanalysis_max_air_temp_k: 0.05046449110945913\n",
      "ndvi_ne: 0.022879007001847123\n",
      "station_min_temp_c: 0.05511852661229152\n",
      "ndvi_nw: 0.06048488768585031\n",
      "ndvi_sw: 0.014187150666272888\n",
      "reanalysis_air_temp_k: 0.02157459816676206\n",
      "ndvi_se: 0.07245158294881149\n"
     ]
    }
   ],
   "source": [
    "# Print feature importances in Decision Tree Classifier (second iteration)\n",
    "second_features = ['log_reanalysis_tdtr_k', 'reanalysis_min_air_temp_k', 'station_diur_temp_rng_c', 'reanalysis_max_air_temp_k', 'ndvi_ne', 'station_min_temp_c', 'ndvi_nw', 'ndvi_sw', 'reanalysis_air_temp_k', 'ndvi_se']\n",
    "dtc2_importance = dtc2_model.featureImportances.toArray()\n",
    "for i in range(len(second_features)):\n",
    "    print(\"{}: {}\".format(second_features[i], dtc2_importance[i]))"
   ]
  },
  {
   "cell_type": "code",
   "execution_count": 70,
   "metadata": {},
   "outputs": [
    {
     "name": "stdout",
     "output_type": "stream",
     "text": [
      "log_reanalysis_tdtr_k: 0.1782142134903572\n",
      "reanalysis_min_air_temp_k: 0.10416382920078851\n",
      "station_diur_temp_rng_c: 0.11489289336780724\n",
      "reanalysis_max_air_temp_k: 0.08589238620435749\n",
      "ndvi_ne: 0.060128699727948896\n",
      "station_min_temp_c: 0.10676075633773578\n",
      "ndvi_nw: 0.07931600641726515\n",
      "ndvi_sw: 0.16084301865878176\n",
      "reanalysis_air_temp_k: 0.038579204497894745\n",
      "ndvi_se: 0.07120899209706334\n"
     ]
    }
   ],
   "source": [
    "# Print feature importances in GBT Classifier (second iteration)\n",
    "gbt2_importance = gbt2_model.featureImportances\n",
    "for i in range(len(second_features)):\n",
    "    print(\"{}: {}\".format(second_features[i], gbt2_importance[i]))"
   ]
  },
  {
   "cell_type": "code",
   "execution_count": 71,
   "metadata": {},
   "outputs": [
    {
     "name": "stdout",
     "output_type": "stream",
     "text": [
      "log_reanalysis_tdtr_k: -0.6816574014913207\n",
      "reanalysis_min_air_temp_k: 0.003928753558359545\n",
      "station_diur_temp_rng_c: 0.037428899197564945\n",
      "reanalysis_max_air_temp_k: -0.08034892049661402\n",
      "ndvi_ne: 0.2478146301463358\n",
      "station_min_temp_c: 0.033597358755683024\n",
      "ndvi_nw: 1.101839463137585\n",
      "ndvi_sw: 0.22440113584973462\n",
      "reanalysis_air_temp_k: 0.2055205691797968\n",
      "ndvi_se: -1.484835165775872\n"
     ]
    }
   ],
   "source": [
    "# Coefficients of the Linear Regression model (second iteration)\n",
    "for i in range(len(second_features)):\n",
    "    print(\"{}: {}\".format(second_features[i], lr2_model.coefficients[i]))"
   ]
  },
  {
   "cell_type": "markdown",
   "metadata": {},
   "source": [
    "#### 7.3.3 Patterns identified in the third iteration"
   ]
  },
  {
   "cell_type": "code",
   "execution_count": 72,
   "metadata": {},
   "outputs": [
    {
     "name": "stdout",
     "output_type": "stream",
     "text": [
      "ndvi_ne: 0.24134113971764276\n",
      "ndvi_nw: 0.8463321607699719\n",
      "ndvi_se: -0.6116300058359415\n",
      "ndvi_sw: 0.13736355294069397\n",
      "reanalysis_air_temp_k: 0.18735387644877635\n",
      "reanalysis_max_air_temp_k: -0.0307797688406168\n",
      "reanalysis_min_air_temp_k: 0.011069527281093876\n",
      "log_reanalysis_tdtr_k: -0.8679602512368433\n"
     ]
    }
   ],
   "source": [
    "# Coefficients of the Linear Regression model with Reanalysis features (third iteration)\n",
    "third_features_reanalysis = ['ndvi_ne', 'ndvi_nw', 'ndvi_se', 'ndvi_sw', 'reanalysis_air_temp_k', 'reanalysis_max_air_temp_k', 'reanalysis_min_air_temp_k', 'log_reanalysis_tdtr_k']\n",
    "for i in range(len(third_features_reanalysis)):\n",
    "    print(\"{}: {}\".format(third_features_reanalysis[i], lr3r_model.coefficients[i]))"
   ]
  },
  {
   "cell_type": "code",
   "execution_count": 73,
   "metadata": {},
   "outputs": [
    {
     "name": "stdout",
     "output_type": "stream",
     "text": [
      "ndvi_ne: -1.172387533040553\n",
      "ndvi_nw: 0.7984310994870379\n",
      "ndvi_se: -0.6568729652672466\n",
      "ndvi_sw: -0.18544184608735223\n",
      "station_diur_temp_rng_c: -0.17019059196536473\n",
      "station_min_temp_c: 0.10053839328538905\n"
     ]
    }
   ],
   "source": [
    "# Coefficients of the Linear Regression model with weather station features (third iteration)\n",
    "third_features_station = ['ndvi_ne', 'ndvi_nw', 'ndvi_se', 'ndvi_sw', 'station_diur_temp_rng_c', 'station_min_temp_c']\n",
    "for i in range(len(third_features_station)):\n",
    "    print(\"{}: {}\".format(third_features_station[i], lr3s_model.coefficients[i]))"
   ]
  },
  {
   "cell_type": "markdown",
   "metadata": {},
   "source": [
    "## 8. Interpretation"
   ]
  },
  {
   "cell_type": "markdown",
   "metadata": {},
   "source": [
    "### 8.2 Visualising the data, results, models and patterns"
   ]
  },
  {
   "cell_type": "code",
   "execution_count": 74,
   "metadata": {},
   "outputs": [],
   "source": [
    "import matplotlib.pyplot as plt"
   ]
  },
  {
   "cell_type": "markdown",
   "metadata": {},
   "source": [
    "#### 8.2.1 First iteration – visualizing the data, results, models and patterns"
   ]
  },
  {
   "cell_type": "code",
   "execution_count": 75,
   "metadata": {},
   "outputs": [
    {
     "data": {
      "image/png": "[encoded data removed]",
      "text/plain": [
       "<Figure size 432x288 with 1 Axes>"
      ]
     },
     "metadata": {},
     "output_type": "display_data"
    }
   ],
   "source": [
    "# Visualising feature importances in Decision Tree Classifier (first iteration)\n",
    "plt.barh(first_features, dtc1_importance)\n",
    "plt.show()"
   ]
  },
  {
   "cell_type": "code",
   "execution_count": 76,
   "metadata": {},
   "outputs": [
    {
     "data": {
      "image/png": "[encoded data removed]",
      "text/plain": [
       "<Figure size 432x288 with 1 Axes>"
      ]
     },
     "metadata": {},
     "output_type": "display_data"
    }
   ],
   "source": [
    "# Visualising feature importances in GBT Classifier (first iteration)\n",
    "plt.barh(first_features, gbt1_importance)\n",
    "plt.show()"
   ]
  },
  {
   "cell_type": "code",
   "execution_count": 77,
   "metadata": {},
   "outputs": [
    {
     "data": {
      "image/png": "[encoded data removed]",
      "text/plain": [
       "<Figure size 432x288 with 1 Axes>"
      ]
     },
     "metadata": {},
     "output_type": "display_data"
    }
   ],
   "source": [
    "# Visualising correlation polarity in Linear Regression (first iteration)\n",
    "plt.barh(first_features, lr1_model.coefficients)\n",
    "plt.show()"
   ]
  },
  {
   "cell_type": "markdown",
   "metadata": {},
   "source": [
    "#### 8.2.2 Second iteration – visualizing the data, results, models and patterns"
   ]
  },
  {
   "cell_type": "code",
   "execution_count": 78,
   "metadata": {},
   "outputs": [
    {
     "data": {
      "image/png": "[encoded data removed]",
      "text/plain": [
       "<Figure size 432x288 with 1 Axes>"
      ]
     },
     "metadata": {},
     "output_type": "display_data"
    }
   ],
   "source": [
    "# Visualising feature importances in Decision Tree Classifier (second iteration)\n",
    "plt.barh(second_features, dtc2_importance)\n",
    "plt.show()"
   ]
  },
  {
   "cell_type": "code",
   "execution_count": 79,
   "metadata": {},
   "outputs": [
    {
     "data": {
      "image/png": "[encoded data removed]",
      "text/plain": [
       "<Figure size 432x288 with 1 Axes>"
      ]
     },
     "metadata": {},
     "output_type": "display_data"
    }
   ],
   "source": [
    "# Visualising feature importances in GBT Classifier (second iteration)\n",
    "plt.barh(second_features, gbt2_importance)\n",
    "plt.show()"
   ]
  },
  {
   "cell_type": "code",
   "execution_count": 80,
   "metadata": {},
   "outputs": [
    {
     "data": {
      "image/png": "[encoded data removed]",
      "text/plain": [
       "<Figure size 432x288 with 1 Axes>"
      ]
     },
     "metadata": {},
     "output_type": "display_data"
    }
   ],
   "source": [
    "# Visualising correlation polarity in Linear Regression (second iteration)\n",
    "plt.barh(second_features, lr2_model.coefficients)\n",
    "plt.show()"
   ]
  },
  {
   "cell_type": "markdown",
   "metadata": {},
   "source": [
    "#### 8.2.3 Third iteration – visualizing the data, results, models and patterns"
   ]
  },
  {
   "cell_type": "code",
   "execution_count": 81,
   "metadata": {},
   "outputs": [
    {
     "data": {
      "image/png": "[encoded data removed]",
      "text/plain": [
       "<Figure size 432x288 with 1 Axes>"
      ]
     },
     "metadata": {},
     "output_type": "display_data"
    },
    {
     "data": {
      "image/png": "[encoded data removed]",
      "text/plain": [
       "<Figure size 432x288 with 1 Axes>"
      ]
     },
     "metadata": {},
     "output_type": "display_data"
    }
   ],
   "source": [
    "# Visualising correlation polarity in Linear Regression (third iteration)\n",
    "plt.barh(third_features_reanalysis, lr3r_model.coefficients)\n",
    "plt.show()\n",
    "plt.barh(third_features_station, lr3s_model.coefficients)\n",
    "plt.show()"
   ]
  },
  {
   "cell_type": "code",
   "execution_count": null,
   "metadata": {},
   "outputs": [],
   "source": []
  }
 ],
 "metadata": {
  "kernelspec": {
   "display_name": "Python 3",
   "language": "python",
   "name": "python3"
  },
  "language_info": {
   "codemirror_mode": {
    "name": "ipython",
    "version": 3
   },
   "file_extension": ".py",
   "mimetype": "text/x-python",
   "name": "python",
   "nbconvert_exporter": "python",
   "pygments_lexer": "ipython3",
   "version": "3.5.2"
  }
 },
 "nbformat": 4,
 "nbformat_minor": 2
}
